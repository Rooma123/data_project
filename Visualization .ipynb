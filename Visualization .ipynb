{
 "cells": [
  {
   "cell_type": "markdown",
   "id": "b1f9cba3-a1d7-4996-a184-641505778704",
   "metadata": {},
   "source": [
    "## Visualization"
   ]
  },
  {
   "cell_type": "markdown",
   "id": "78590312-0985-4682-8d9c-c261240ea4c8",
   "metadata": {},
   "source": [
    "### 1.What percentage of customers in the dataset have experienced attrition?"
   ]
  },
  {
   "cell_type": "code",
   "execution_count": null,
   "id": "28a0c0c9-fb1b-44ba-ba7c-24ed781afe5c",
   "metadata": {},
   "outputs": [],
   "source": [
    "import matplotlib.pyplot as plt\n",
    "\n",
    "# Count the occurrences of each churn status\n",
    "attrition_counts = Bank['Attrition_Flag'].value_counts()\n",
    "\n",
    "# Define custom colors (purple and dark blue)\n",
    "colors = ['#800080', '#00008B']  # Purple and dark blue\n",
    "\n",
    "# Create a pie chart with custom colors\n",
    "plt.pie(attrition_counts, labels=attrition_counts.index, autopct='%1.1f%%', startangle=90, wedgeprops=dict(width=0.33), colors=colors)\n",
    "\n",
    "# Add a hole in the center to make it look like a donut chart\n",
    "centre_circle = plt.Circle((0, 0), 0.25, fc='white')\n",
    "fig = plt.gcf()\n",
    "fig.gca().add_artist(centre_circle)\n",
    "\n",
    "# Set the title\n",
    "plt.title('Proportion of Churn vs Not Churn Customers')\n",
    "\n",
    "# Display the plot\n",
    "plt.show()"
   ]
  },
  {
   "cell_type": "markdown",
   "id": "f7d8e9ba-9a96-414f-819d-4bfa75753b6b",
   "metadata": {},
   "source": [
    "#### Insights:\n",
    "The percentage of customers who have experienced attrition in the dataset is 16.1%."
   ]
  },
  {
   "cell_type": "markdown",
   "id": "7369e44d-d080-495d-b8dd-b3e3d5a3112c",
   "metadata": {},
   "source": [
    "### 2)How does the distribution of 'Avg_Utilization_Ratio' differ between attrited and existing customers based on the box plot?"
   ]
  },
  {
   "cell_type": "code",
   "execution_count": null,
   "id": "61d59e56-8ee0-45d7-9b53-71757a398c69",
   "metadata": {},
   "outputs": [],
   "source": [
    "import plotly.express as px\n",
    "import pandas as pd\n",
    "\n",
    "# Assuming Bank is your DataFrame\n",
    "df = pd.DataFrame(Bank)\n",
    "\n",
    "# Create a box plot with Plotly Express\n",
    "fig = px.box(df, x='Attrition_Flag', y='Avg_Utilization_Ratio',\n",
    "             color='Attrition_Flag',\n",
    "             category_orders={'Attrition_Flag': ['Existing', 'Attrited']},\n",
    "             title='Distribution of Avg_Utilization_Ratio for Attrited and Existing Customers',\n",
    "             labels={'Attrition_Flag': 'Attrition Flag', 'Avg_Utilization_Ratio': 'Avg. Utilization Ratio'})\n",
    "\n",
    "# Show the plot\n",
    "fig.show()\n"
   ]
  },
  {
   "cell_type": "markdown",
   "id": "bf26af80-f750-4564-b11d-8a07b87b51c8",
   "metadata": {},
   "source": [
    "#### insights: \n",
    " (In existing customer we have more than one outlier ) "
   ]
  },
  {
   "cell_type": "markdown",
   "id": "5e607924-3acf-481d-b27d-d68bec32fe2d",
   "metadata": {},
   "source": [
    "## 3)Are there any income groups that tend to have higher or lower total revolving balances?"
   ]
  },
  {
   "cell_type": "code",
   "execution_count": null,
   "id": "90610ad2-9a73-4397-a639-bd6554ffe949",
   "metadata": {},
   "outputs": [],
   "source": [
    "import seaborn as sns\n",
    "import matplotlib.pyplot as plt\n",
    "\n",
    "plt.figure(figsize=(12, 8))\n",
    "sns.barplot(x='Income_Category', y='Total_Revolving_Bal', data=Bank, errorbar=None)\n",
    "plt.title('Average Total Revolving Balance by Income Category')\n",
    "plt.xlabel('Income Category')\n",
    "plt.ylabel('Total_Revolving_Bal')\n",
    "plt.show()"
   ]
  },
  {
   "cell_type": "markdown",
   "id": "9f821ad8-06e2-41a7-a960-557a2d6fe27d",
   "metadata": {},
   "source": [
    "#### Insights:\r\n",
    "customers with income less than 40k have lower total revolving balance while customer with income more than 120k have higher total revolving balance."
   ]
  },
  {
   "cell_type": "markdown",
   "id": "02142886-4547-48a8-b6fd-5da55b9e5b91",
   "metadata": {},
   "source": [
    "## 4)How does the number of dependents vary across different marital statuses?"
   ]
  },
  {
   "cell_type": "code",
   "execution_count": null,
   "id": "be651ac8-7015-4219-af79-fdba5afd5704",
   "metadata": {},
   "outputs": [],
   "source": [
    "import seaborn as sns\n",
    "import matplotlib.pyplot as plt\n",
    "\n",
    "\n",
    "\n",
    "plt.figure(figsize=(10, 6))\n",
    "sns.countplot(x='Marital_Status', hue='Dependent_count', data=Bank, palette='viridis')\n",
    "plt.title('Dependent Count by Marital Status')\n",
    "plt.xlabel('Marital Status')\n",
    "plt.ylabel('Count')\n",
    "plt.show()\n"
   ]
  },
  {
   "cell_type": "markdown",
   "id": "064a1f70-a9a2-43f6-bdd1-d902d066bb5d",
   "metadata": {},
   "source": [
    "##### Insight:\n",
    "*The count plot reveals the distribution of dependents across different marital statuses. Among married and single individuals, the most prevalent scenario is having 2 or 3 dependents while in divorced individuals have a higher count of 4 dependents*"
   ]
  },
  {
   "cell_type": "markdown",
   "id": "f81eb21c-6c3f-42cf-9c1d-8ef1d61dfb13",
   "metadata": {},
   "source": [
    "### 5)Is there a correlation between the type of card a customer holds and their income category?\""
   ]
  },
  {
   "cell_type": "code",
   "execution_count": null,
   "id": "8de22f78-ef5b-4eb8-a850-40ad06251575",
   "metadata": {},
   "outputs": [],
   "source": [
    "import seaborn as sns\n",
    "import matplotlib.pyplot as plt\n",
    "plt.figure(figsize=(12, 8))\n",
    "pd.crosstab(Bank['Income_Category'], Bank['Card_Category'], normalize='index').plot(kind='bar', stacked=True, cmap='coolwarm')\n",
    "plt.title('Heatmap of Card Categories by Income Category')\n",
    "plt.xlabel('Income Category')\n",
    "##'plasma', 'magma', 'inferno', 'cividis','coolwarm'=>heatmap clors\n",
    "plt.ylabel('Proportion')\n",
    "plt.show()"
   ]
  },
  {
   "cell_type": "markdown",
   "id": "d9e08594-f2db-47bf-b372-908c85a7ba4c",
   "metadata": {},
   "source": [
    "##### Insights:\n",
    "*customers with income 120k+ tend to be the higher category with gold card holder whilewhile customers with 80k-120k income tend to be the only group that have platinium card holders.*"
   ]
  },
  {
   "cell_type": "code",
   "execution_count": null,
   "id": "07df293c-491e-4605-a307-7ba26df4a463",
   "metadata": {},
   "outputs": [],
   "source": [
    "Bank=Bank.head(50)"
   ]
  },
  {
   "cell_type": "markdown",
   "id": "3d6de069-dac7-4ba4-8798-e7c471045dff",
   "metadata": {},
   "source": [
    "##  6)What is the relationship between Credit_Limit  and Avg_Open_To_Buy"
   ]
  },
  {
   "cell_type": "code",
   "execution_count": null,
   "id": "5bfe81da-8f9d-4317-98b3-c01dccec6dc4",
   "metadata": {},
   "outputs": [],
   "source": [
    "Bank.plot(x= 'Credit_Limit', y= 'Avg_Open_To_Buy' , kind='scatter', color = 'purple');"
   ]
  },
  {
   "cell_type": "markdown",
   "id": "0899ec81-616c-43de-b244-9f5f25ddbc1c",
   "metadata": {},
   "source": [
    "#### From the above : \n",
    "*there is a strong positive relationship between Credit_Limit and Avg_Open_To_Buy . if one increases the another increases too.*"
   ]
  },
  {
   "cell_type": "markdown",
   "id": "e93b38b4-5907-4883-a7df-7eb762c453f4",
   "metadata": {},
   "source": [
    "### 7)What insights can we derive about customer behavior from the box plot of total transactions?"
   ]
  },
  {
   "cell_type": "code",
   "execution_count": null,
   "id": "2fbbfdd1-e55a-435b-977b-1c494cd482e7",
   "metadata": {},
   "outputs": [],
   "source": [
    "import plotly.express as px ## => interactive visualizations in Plotly(quick and easy).\n",
    "import pandas as pd\n",
    "\n",
    "df = pd.DataFrame(Bank)\n",
    "\n",
    "# Create a figure with subplots (box plot and histogram)\n",
    "## nbins=> means you are dividing the range of the data into 20 equal \n",
    "\n",
    "fig = px.histogram(df, x='Total_Trans_Amt', nbins=20, marginal='box', title='Distribution of Total Transaction Amount (Last 12 months)')\n",
    "\n",
    "# Update layout\n",
    "fig.update_layout(\n",
    "    xaxis_title='Total Trans Amt',\n",
    "    yaxis_title='Frequency',\n",
    "    bargap=0.1,\n",
    "    bargroupgap=0.1\n",
    ")\n",
    "\n",
    "# Show the plot\n",
    "fig.show()\n"
   ]
  },
  {
   "cell_type": "markdown",
   "id": "eb527893-ea35-4c02-b059-21cda63ad787",
   "metadata": {},
   "source": [
    "####     insights:         \n",
    "*Total transaction amount from 1100 to 1199 had the highest frequency*"
   ]
  },
  {
   "cell_type": "markdown",
   "id": "cfff5fb9-aa19-4dab-af0c-c3befcf39510",
   "metadata": {},
   "source": [
    "### 8)How is the correlation between the number of total transactions ('Total_Trans_Ct') and the total transaction amount ('Total_Trans_Amt')?"
   ]
  },
  {
   "cell_type": "code",
   "execution_count": null,
   "id": "4beaeb3c-0924-4f75-a0b7-9e079dbca3ca",
   "metadata": {},
   "outputs": [],
   "source": [
    "import plotly.express as px\n",
    "import pandas as pd\n",
    "\n",
    "\n",
    "df = pd.DataFrame(Bank)\n",
    "\n",
    "fig = px.scatter(df, x=\"Total_Trans_Amt\", y=\"Total_Trans_Ct\", animation_frame=\"Customer_Age\",\n",
    "           size=\"Credit_Limit\", color=\"Gender\", hover_name=\"Marital_Status\",\n",
    "           log_x=True, size_max=55, range_x=[df[\"Total_Trans_Amt\"].min(), df[\"Total_Trans_Amt\"].max()],\n",
    "           range_y=[df[\"Total_Trans_Ct\"].min(), df[\"Total_Trans_Ct\"].max()])\n",
    "\n",
    "fig[\"layout\"].pop(\"updatemenus\")  # optional, drop animation buttons\n",
    "fig.update_layout(title='Scatter Plot with Animation for Customer Age',\n",
    "                  xaxis=dict(title='Total_Trans_Amt'),\n",
    "                  yaxis=dict(title='Total_Trans_Ct'))\n",
    "\n",
    "fig.show()\n"
   ]
  },
  {
   "cell_type": "markdown",
   "id": "8f18f4e0-1c1e-4287-b484-c533add88c40",
   "metadata": {},
   "source": [
    "### 9) How does the distribution of 'Credit_Limit' vary across different levels of 'Avg_Open_To_Buy?"
   ]
  },
  {
   "cell_type": "code",
   "execution_count": null,
   "id": "d7be1a04-598a-444e-b7ec-844ef15f4230",
   "metadata": {},
   "outputs": [],
   "source": [
    "import plotly.graph_objects as go ##module =>( master building and customize everything)\n",
    "\n",
    "fig = go.Figure()\n",
    "fig.add_trace(go.Box(y=Bank['Credit_Limit'], name='Credit_Limit'))\n",
    "fig.add_trace(go.Box(y=Bank['Avg_Open_To_Buy'], name='Avg_Open_To_Buy'))\n",
    "fig.show()"
   ]
  },
  {
   "cell_type": "markdown",
   "id": "b1584978-c15c-434f-91c9-0c091a58ef91",
   "metadata": {},
   "source": [
    "### 10)How does the number of inactive months ('Months_Inactive_12_mon') vary over time?"
   ]
  },
  {
   "cell_type": "code",
   "execution_count": null,
   "id": "f8e05d9c-3c6f-4a0c-92cf-bca59697eb23",
   "metadata": {},
   "outputs": [],
   "source": [
    "plt.figure(figsize=(12, 6))\n",
    "plt.plot(Bank['Months_Inactive_12_mon'], marker='o', linestyle='-', color='c')\n",
    "plt.title('Months Inactive 12 Months Over Time')\n",
    "plt.xlabel('Index or Time Period')\n",
    "plt.ylabel('Months Inactive 12 Months')\n",
    "plt.grid(True)\n",
    "plt.show()"
   ]
  },
  {
   "cell_type": "markdown",
   "id": "c5a4bb2e-5a55-4d85-908e-210ab6d51c81",
   "metadata": {},
   "source": [
    "#### insights:\n",
    "The longest time period customer inactive was 6 months while The shortest time period customer inactive was 0 months"
   ]
  },
  {
   "cell_type": "markdown",
   "id": "ff73adf6-d95b-4e90-837c-c798add1fc30",
   "metadata": {},
   "source": [
    "##### get coulmn name"
   ]
  },
  {
   "cell_type": "code",
   "execution_count": null,
   "id": "a9b41651-82a1-435f-a2df-1d9322a495be",
   "metadata": {},
   "outputs": [],
   "source": [
    "column_names = Bank.columns\n",
    "\n",
    "print(column_names)"
   ]
  },
  {
   "cell_type": "markdown",
   "id": "a386245b-4fae-4659-83b6-c3b3d300f07c",
   "metadata": {},
   "source": [
    "### 11) What is the Positive Correlation And the Negative Correlation between numerical column?"
   ]
  },
  {
   "cell_type": "code",
   "execution_count": null,
   "id": "098dd53c-626b-42aa-9996-9b500a082a79",
   "metadata": {},
   "outputs": [],
   "source": [
    "import pandas as pd\n",
    "import seaborn as sns\n",
    "import matplotlib.pyplot as plt\n",
    "\n",
    "# Select numerical columns for correlation analysis\n",
    "numerical_columns = ['Customer_Age', 'Dependent_count', 'Months_on_book', 'Total_Relationship_Count',\n",
    "                      'Months_Inactive_12_mon', 'Contacts_Count_12_mon', 'Credit_Limit', 'Total_Revolving_Bal',\n",
    "                      'Avg_Open_To_Buy', 'Total_Amt_Chng_Q4_Q1', 'Total_Trans_Amt', 'Total_Trans_Ct',\n",
    "                      'Total_Ct_Chng_Q4_Q1', 'Avg_Utilization_Ratio']\n",
    "\n",
    "# Subset the DataFrame with numerical columns\n",
    "df_numerical = Bank[numerical_columns]\n",
    "\n",
    "# Compute the correlation matrix using Pearson correlation coefficient\n",
    "corr_matrix = df_numerical.corr()\n",
    "\n",
    "# Plot the heatmap\n",
    "plt.figure(figsize=(12, 10))\n",
    "sns.heatmap(corr_matrix, cmap='magma', annot=True, fmt=\".2f\", linewidths=.5)\n",
    "plt.title(\"Correlation Matrix of Numerical Columns\")\n",
    "plt.show()\n"
   ]
  },
  {
   "cell_type": "code",
   "execution_count": null,
   "id": "c4d829cc-7191-40e2-8c8a-75f32a468538",
   "metadata": {},
   "outputs": [],
   "source": [
    "import pandas as pd\n",
    "\n",
    "# Select numeric columns\n",
    "numeric_columns = ['Customer_Age', 'Dependent_count', 'Months_on_book', 'Total_Relationship_Count',\n",
    "                   'Months_Inactive_12_mon', 'Contacts_Count_12_mon', 'Credit_Limit',\n",
    "                   'Total_Revolving_Bal', 'Avg_Open_To_Buy', 'Total_Amt_Chng_Q4_Q1',\n",
    "                   'Total_Trans_Amt', 'Total_Trans_Ct', 'Total_Ct_Chng_Q4_Q1', 'Avg_Utilization_Ratio']\n",
    "\n",
    "# Create a subset DataFrame with numeric columns\n",
    "numeric_data =[numeric_columns]\n",
    "\n",
    "# Calculate correlation matrix\n",
    "correlation_matrix = numeric_data.corr()\n",
    "\n",
    "# Get columns with positive correlation\n",
    "positive_correlation = correlation_matrix[correlation_matrix > 0].stack().sort_values(ascending=False)\n",
    "\n",
    "# Display columns with positive correlation\n",
    "print(\"Columns with Positive Correlation:\")\n",
    "print(positive_correlation[positive_correlation < 1])"
   ]
  },
  {
   "cell_type": "code",
   "execution_count": null,
   "id": "288b92a4-b68c-4af0-be6c-feaf75af1b44",
   "metadata": {},
   "outputs": [],
   "source": [
    "import pandas as pd\n",
    "\n",
    "# Select numeric columns\n",
    "numeric_columns = ['Customer_Age', 'Dependent_count', 'Months_on_book', 'Total_Relationship_Count',\n",
    "                   'Months_Inactive_12_mon', 'Contacts_Count_12_mon', 'Credit_Limit',\n",
    "                   'Total_Revolving_Bal', 'Avg_Open_To_Buy', 'Total_Amt_Chng_Q4_Q1',\n",
    "                   'Total_Trans_Amt', 'Total_Trans_Ct', 'Total_Ct_Chng_Q4_Q1', 'Avg_Utilization_Ratio']\n",
    "\n",
    "# Create a subset DataFrame with numeric columns\n",
    "numeric_data = Bank[numeric_columns]\n",
    "\n",
    "# Calculate correlation matrix\n",
    "correlation_matrix = numeric_data.corr()\n",
    "\n",
    "# Get columns with negative correlation\n",
    "negative_correlation = correlation_matrix[correlation_matrix < 0].stack().sort_values(ascending=True)\n",
    "\n",
    "# Display columns with negative correlation\n",
    "print(\"Columns with Negative Correlation:\")\n",
    "print(negative_correlation[negative_correlation < -0.1])  # Adjust the threshold as needed"
   ]
  },
  {
   "cell_type": "markdown",
   "id": "0c0faa66-cd1e-473e-ba31-1b8da11d6a23",
   "metadata": {},
   "source": [
    "### 12)What is the relationship between Total_Trans_Amt and Total_Trans_Ct"
   ]
  },
  {
   "cell_type": "code",
   "execution_count": null,
   "id": "bf92ccc5-f146-44b0-87e3-0ffd733d02ff",
   "metadata": {},
   "outputs": [],
   "source": [
    "import plotly.graph_objects as go\n",
    "\n",
    "\n",
    "fig = go.Figure()\n",
    "\n",
    "# Scatter plot\n",
    "fig.add_trace(go.Scatter(\n",
    "    x=Bank['Avg_Open_To_Buy'],\n",
    "    y=Bank['Avg_Utilization_Ratio'],\n",
    "    mode='markers',\n",
    "    marker=dict(color='red')\n",
    "))\n",
    "\n",
    "# Update layout\n",
    "fig.update_layout(\n",
    "    title='Scatter Plot of Avg_Open_To_Buy vs Avg_Utilization_Ratio',\n",
    "    xaxis=dict(title='Avg_Open_To_Buy'),\n",
    "    yaxis=dict(title='Avg_Utilization_Ratio'),\n",
    ")\n",
    "\n",
    "fig.show()"
   ]
  },
  {
   "cell_type": "markdown",
   "id": "9ba7e9da-1eb4-4ed6-91fd-972b99fe2032",
   "metadata": {},
   "source": [
    "#### From the above :\n",
    "*there is a  negative relationship between Avg_Open_To_Buy and Avg_Utilization_Ratio*"
   ]
  },
  {
   "cell_type": "markdown",
   "id": "8018a0d6-c924-4c8c-871d-523012e2ae28",
   "metadata": {},
   "source": [
    "### 13)How is the distribution of a specific variable count related to the age of customers?"
   ]
  },
  {
   "cell_type": "code",
   "execution_count": null,
   "id": "3f64148a-57af-44a1-b77d-2d9b42ac7634",
   "metadata": {},
   "outputs": [],
   "source": [
    "import seaborn as sns\n",
    "import numpy as np\n",
    "import pandas as pd\n",
    "import matplotlib.pyplot as plt\n",
    "# Assuming df is your DataFrame with a column named 'Your_Numeric_Column'\n",
    "# Replace 'Your_Numeric_Column' with the actual column name in your dataset\n",
    "df = pd.DataFrame(Bank)\n",
    "# Plotting the histogram for your numeric column\n",
    "sns.histplot(data=df['Customer_Age'], kde=True)\n",
    "plt.title('Histogram of Your Numeric Column')\n",
    "plt.xlabel('Customer_Age')\n",
    "plt.ylabel('Count')\n",
    "plt.show()"
   ]
  },
  {
   "cell_type": "markdown",
   "id": "c37f8aed-ac73-4345-b908-ba52e5166cf9",
   "metadata": {},
   "source": [
    "#### Insight :\n",
    "*customers in the age range of 40 to 60 constitute the majority of users of the bank.*"
   ]
  },
  {
   "cell_type": "markdown",
   "id": "d49d8ec3-aca5-447a-aa99-5efa54d2efa4",
   "metadata": {},
   "source": [
    "### 14 )What is the relationship between Total_Trans_Amt  and Total_Trans_Ct"
   ]
  },
  {
   "cell_type": "code",
   "execution_count": null,
   "id": "b56bd8b2-b438-48f4-b14c-24a686ebdb47",
   "metadata": {},
   "outputs": [],
   "source": [
    "Bank.plot(x= 'Total_Trans_Amt', y= 'Total_Trans_Ct' , kind='scatter', color = 'red');"
   ]
  },
  {
   "cell_type": "markdown",
   "id": "114512e0-02f9-4745-8301-5ee2a239d6a8",
   "metadata": {},
   "source": [
    "#### From the above :\n",
    "*there is a  positive relationship between Total_Trans_Amt  and Total_Trans_Ct*"
   ]
  },
  {
   "cell_type": "markdown",
   "id": "38b9b86d-76bf-4386-9827-e9e843eaa752",
   "metadata": {},
   "source": [
    "### 15)What is the distribution of card categories among customers with different education levels?"
   ]
  },
  {
   "cell_type": "code",
   "execution_count": null,
   "id": "f5fd5129-e1a1-4f23-9f7f-a21f56db3f44",
   "metadata": {},
   "outputs": [],
   "source": [
    "import seaborn as sns\n",
    "import matplotlib.pyplot as plt\n",
    "\n",
    "sns.countplot(x='Education_Level', hue='Card_Category', data=df)\n",
    "plt.show()"
   ]
  },
  {
   "cell_type": "markdown",
   "id": "b8c77824-e847-4a3c-92fa-9a208f32f404",
   "metadata": {},
   "source": [
    "#### Insights : \n",
    "*the blue card  is the most used card in all Education_Level.and the gold card have beenused in high school and graduate level only.*"
   ]
  },
  {
   "cell_type": "markdown",
   "id": "352ae08f-96f0-44a3-9c33-13da48acb9f2",
   "metadata": {},
   "source": [
    "### 16) How does the distribution of customer age vary across different income categories?"
   ]
  },
  {
   "cell_type": "code",
   "execution_count": null,
   "id": "e54e5a0a-69bd-429f-ada2-04b85e8d92d6",
   "metadata": {},
   "outputs": [],
   "source": [
    "import seaborn as sns\n",
    "import matplotlib.pyplot as plt\n",
    "\n",
    "# Assuming df is your DataFrame with columns 'Customer_Age' and 'Income_Category'\n",
    "# You can replace this with your actual dataset\n",
    "\n",
    "df = pd.DataFrame(Bank)\n",
    "\n",
    "# Create individual histograms for 'Customer_Age' with hue\n",
    "sns.histplot(data=df, x='Customer_Age', hue='Income_Category', multiple=\"stack\", palette='viridis', bins=10)\n",
    "\n",
    "# Add title and labels\n",
    "plt.title('Histogram of Customer Age by Income Category')\n",
    "plt.xlabel('Customer Age')\n",
    "plt.ylabel('Count')\n",
    "\n",
    "# Show the plot\n",
    "plt.show()"
   ]
  },
  {
   "cell_type": "markdown",
   "id": "512f155f-39ff-4e32-ad98-77835c0b5bf9",
   "metadata": {},
   "source": [
    "### Insight: \n",
    "*All customers, regardless of age, fall within an income category below 40K.*"
   ]
  },
  {
   "cell_type": "markdown",
   "id": "88b10e61-0352-4e25-b054-d99196054d96",
   "metadata": {},
   "source": [
    "## Machine Learnning model"
   ]
  },
  {
   "cell_type": "code",
   "execution_count": null,
   "id": "c52f328b-8cf4-4198-9d5e-1be73b1e52a2",
   "metadata": {},
   "outputs": [],
   "source": [
    "import pandas as pd\n",
    "import numpy as np\n",
    "import seaborn as sns\n",
    "from sklearn.ensemble import RandomForestClassifier##Algorithm\n",
    "from sklearn.model_selection import train_test_split\n",
    "from sklearn.metrics import confusion_matrix, classification_report\n",
    "import matplotlib.pyplot as plt\n",
    "\n",
    "# Load the dataset\n",
    "bank2 = pd.read_csv(r'C:\\Users\\abdel\\OneDrive\\Desktop\\bank(4).csv')\n",
    "\n",
    "# One-hot encode the 'Attrition_Flag' column\n",
    "att = pd.get_dummies(bank2['Attrition_Flag'], drop_first=True)\n",
    "bank2 = bank2.merge(att, how='left', left_index=True, right_index=True)\n",
    "\n",
    "# Define features (X) and target variable (y)\n",
    "X = bank2[['Total_Relationship_Count', 'Months_Inactive_12_mon',\n",
    "           'Contacts_Count_12_mon', 'Total_Revolving_Bal', 'Dependent_count',\n",
    "           'Total_Trans_Amt', 'Total_Trans_Ct', 'Avg_Utilization_Ratio', 'Total_Ct_Chng_Q4_Q1']]\n",
    "y = bank2['Attrition_Flag']\n",
    "\n",
    "# Split the data into training and testing sets\n",
    "X_train, X_test, y_train, y_test = train_test_split(X, y, test_size=0.2, random_state=0)\n",
    "\n",
    "# Train the Random Forest classifier\n",
    "rf = RandomForestClassifier(random_state=0)\n",
    "rf.fit(X_train, y_train)\n",
    "\n",
    "# Make predictions on the test set\n",
    "y_pred = rf.predict(X_test)\n",
    "\n",
    "# Calculate confusion matrix and print classification report\n",
    "cm = confusion_matrix(y_test, y_pred)\n",
    "accuracy = (cm[0, 0] + cm[1, 1]) / cm.sum()\n",
    "print(classification_report(y_test, y_pred))\n",
    "print(f\"The Accuracy of Random Forest is {accuracy * 100}\")\n",
    "\n",
    "# Visualize the confusion matrix using Seaborn\n",
    "sns.heatmap(cm, annot=True, fmt='g', cmap='Purples', cbar=False)\n",
    "plt.xlabel('Predicted')\n",
    "plt.ylabel('Actual')\n",
    "plt.title('Confusion Matrix')\n",
    "plt.show()"
   ]
  },
  {
   "cell_type": "code",
   "execution_count": null,
   "id": "87143f45-c40d-4d96-ad67-f539d7542f29",
   "metadata": {},
   "outputs": [],
   "source": []
  },
  {
   "cell_type": "code",
   "execution_count": null,
   "id": "33e02843-7e96-4d11-a46e-66e4d49d3e56",
   "metadata": {},
   "outputs": [],
   "source": []
  },
  {
   "cell_type": "code",
   "execution_count": null,
   "id": "0136cd27-b138-45ff-92fa-bd4dbecf7dfc",
   "metadata": {},
   "outputs": [],
   "source": []
  }
 ],
 "metadata": {
  "kernelspec": {
   "display_name": "Python 3 (ipykernel)",
   "language": "python",
   "name": "python3"
  },
  "language_info": {
   "codemirror_mode": {
    "name": "ipython",
    "version": 3
   },
   "file_extension": ".py",
   "mimetype": "text/x-python",
   "name": "python",
   "nbconvert_exporter": "python",
   "pygments_lexer": "ipython3",
   "version": "3.11.7"
  }
 },
 "nbformat": 4,
 "nbformat_minor": 5
}
